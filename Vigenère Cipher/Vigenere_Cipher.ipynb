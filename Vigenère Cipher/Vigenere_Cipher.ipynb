{
  "nbformat": 4,
  "nbformat_minor": 0,
  "metadata": {
    "colab": {
      "provenance": [],
      "authorship_tag": "ABX9TyPriRkwGme4Z6ESt92pNtB9",
      "include_colab_link": true
    },
    "kernelspec": {
      "name": "python3",
      "display_name": "Python 3"
    },
    "language_info": {
      "name": "python"
    }
  },
  "cells": [
    {
      "cell_type": "markdown",
      "metadata": {
        "id": "view-in-github",
        "colab_type": "text"
      },
      "source": [
        "<a href=\"https://colab.research.google.com/github/leorasdsouza/INS-Lab-Programs/blob/main/Vigen%C3%A8re%20Cipher/Vigenere_Cipher.ipynb\" target=\"_parent\"><img src=\"https://colab.research.google.com/assets/colab-badge.svg\" alt=\"Open In Colab\"/></a>"
      ]
    },
    {
      "cell_type": "code",
      "execution_count": 3,
      "metadata": {
        "colab": {
          "base_uri": "https://localhost:8080/"
        },
        "id": "2Y_--cF-cUlK",
        "outputId": "d98f8935-c8ae-4765-a544-5e2050e494ae"
      },
      "outputs": [
        {
          "output_type": "stream",
          "name": "stdout",
          "text": [
            "Enter the text: VIGENERE CIPHER\n",
            "Enter the key: ENCRYPT\n",
            "Encrypted text is : ZVIVLTKIPKGFTK\n",
            "Decrypted text is : VIGENERECIPHER\n"
          ]
        }
      ],
      "source": [
        "def vigenere_encrypt(plaintext, key):\n",
        "    key = key.upper()\n",
        "    plaintext = plaintext.replace(\" \", \"\")\n",
        "    ciphertext = \"\"\n",
        "    key_index = 0\n",
        "    for char in plaintext.upper():\n",
        "        if char.isalpha():\n",
        "            shift = ord(key[key_index]) - ord('A')\n",
        "            ciphertext += chr((ord(char) - ord('A') + shift) % 26 + ord('A'))\n",
        "            key_index = (key_index + 1) % len(key)\n",
        "        else:\n",
        "            ciphertext += char\n",
        "    return ciphertext\n",
        "\n",
        "def vigenere_decrypt(ciphertext, key):\n",
        "    key = key.upper()\n",
        "    ciphertext = ciphertext.replace(\" \", \"\")\n",
        "    plaintext = \"\"\n",
        "    key_index = 0\n",
        "    for char in ciphertext.upper():\n",
        "        if char.isalpha():\n",
        "            shift = ord(key[key_index]) - ord('A')\n",
        "            plaintext += chr((ord(char) - ord('A') - shift) % 26 + ord('A'))\n",
        "            key_index = (key_index + 1) % len(key)\n",
        "        else:\n",
        "            plaintext += char\n",
        "    return plaintext\n",
        "\n",
        "plaintext = input(\"Enter the text: \")\n",
        "key = input(\"Enter the key: \")\n",
        "print(\"Encrypted text is :\", vigenere_encrypt(plaintext, key))\n",
        "ciphertext = vigenere_encrypt(plaintext, key)\n",
        "print(\"Decrypted text is :\", vigenere_decrypt(ciphertext, key))"
      ]
    }
  ]
}