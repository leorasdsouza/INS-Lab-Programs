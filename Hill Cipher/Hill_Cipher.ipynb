{
  "nbformat": 4,
  "nbformat_minor": 0,
  "metadata": {
    "colab": {
      "provenance": [],
      "authorship_tag": "ABX9TyNhQPUK59RTXAQt6EiMeM0k",
      "include_colab_link": true
    },
    "kernelspec": {
      "name": "python3",
      "display_name": "Python 3"
    },
    "language_info": {
      "name": "python"
    }
  },
  "cells": [
    {
      "cell_type": "markdown",
      "metadata": {
        "id": "view-in-github",
        "colab_type": "text"
      },
      "source": [
        "<a href=\"https://colab.research.google.com/github/leorasdsouza/INS-Lab-Programs/blob/main/Hill%20Cipher/Hill_Cipher.ipynb\" target=\"_parent\"><img src=\"https://colab.research.google.com/assets/colab-badge.svg\" alt=\"Open In Colab\"/></a>"
      ]
    },
    {
      "cell_type": "code",
      "execution_count": 13,
      "metadata": {
        "colab": {
          "base_uri": "https://localhost:8080/"
        },
        "id": "SzYjwe4YITH8",
        "outputId": "96f70c2c-8002-4b4d-8dba-d107924716b0"
      },
      "outputs": [
        {
          "output_type": "stream",
          "name": "stdout",
          "text": [
            "Enter text: HILL CIPHER\n",
            "Encrypted: LRZSVKCJLBNK\n",
            "Decrypted text:  HILLCIPHER\n"
          ]
        }
      ],
      "source": [
        "import numpy as np\n",
        "\n",
        "def hill_cipher_encrypt(plaintext, key_matrix):\n",
        "    n = len(key_matrix)\n",
        "    plaintext = plaintext.upper().replace(\" \",\"\")\n",
        "    if len(plaintext) % n != 0:\n",
        "      plaintext += \"X\" * (n - len(plaintext) % n)\n",
        "\n",
        "    plaintext_vector = [ord(char) - ord('A') for char in plaintext]\n",
        "    ciphertext = \"\"\n",
        "    for i in range(0, len(plaintext_vector), n):\n",
        "      block = plaintext_vector[i:i + n]\n",
        "      result = np.dot(key_matrix, block) % 26\n",
        "      ciphertext += \"\".join(chr(num + ord('A')) for num in result)\n",
        "    return ciphertext\n",
        "\n",
        "def hill_cipher_decrypt(ciphertext, key_matrix):\n",
        "    n = len(key_matrix)\n",
        "    det = int(np.round(np.linalg.det(key_matrix)))\n",
        "    det_inv = pow(det, -1, 26)\n",
        "    key_matrix_inv = (\n",
        "        det_inv * np.round(det * np.linalg.inv(key_matrix)).astype(int) % 26\n",
        "    )\n",
        "\n",
        "    ciphertext_vector = [ord(char) - ord('A') for char in ciphertext]\n",
        "    plaintext = \"\"\n",
        "    for i in range(0, len(ciphertext_vector), n):\n",
        "        block = ciphertext_vector[i:i+n]\n",
        "        result = np.dot(key_matrix_inv, block) % 26\n",
        "        plaintext += \"\".join(chr(int(num) + ord('A')) for num in result)\n",
        "    while plaintext.endswith(\"X\"):\n",
        "        plaintext = plaintext[:-1]\n",
        "    return plaintext\n",
        "\n",
        "# Example usage\n",
        "plaintext = input(\"Enter text: \")\n",
        "key_matrix = np.array([[6, 24, 1], [13, 16, 10], [20, 17, 15]]) # Example 3x3 key matrix\n",
        "print(\"Encrypted:\", hill_cipher_encrypt(plaintext, key_matrix))\n",
        "encrypted_text=hill_cipher_encrypt(plaintext, key_matrix)\n",
        "decrypted_text = hill_cipher_decrypt(encrypted_text, key_matrix)\n",
        "print(\"Decrypted text: \", decrypted_text)"
      ]
    }
  ]
}