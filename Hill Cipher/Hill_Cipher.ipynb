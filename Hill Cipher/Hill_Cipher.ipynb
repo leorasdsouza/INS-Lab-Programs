{
  "nbformat": 4,
  "nbformat_minor": 0,
  "metadata": {
    "colab": {
      "provenance": [],
      "authorship_tag": "ABX9TyOaAVv5QoF+hy79dP7869ey",
      "include_colab_link": true
    },
    "kernelspec": {
      "name": "python3",
      "display_name": "Python 3"
    },
    "language_info": {
      "name": "python"
    }
  },
  "cells": [
    {
      "cell_type": "markdown",
      "metadata": {
        "id": "view-in-github",
        "colab_type": "text"
      },
      "source": [
        "<a href=\"https://colab.research.google.com/github/leorasdsouza/INS-Lab-Programs/blob/main/Hill%20Cipher/Hill_Cipher.ipynb\" target=\"_parent\"><img src=\"https://colab.research.google.com/assets/colab-badge.svg\" alt=\"Open In Colab\"/></a>"
      ]
    },
    {
      "cell_type": "code",
      "execution_count": 4,
      "metadata": {
        "colab": {
          "base_uri": "https://localhost:8080/"
        },
        "id": "O-DWQitKdHwU",
        "outputId": "67e0b7aa-4ff9-4c2a-87bb-8f3a52653dcb"
      },
      "outputs": [
        {
          "output_type": "stream",
          "name": "stdout",
          "text": [
            "Enter text: HILL CIPHER\n",
            "Encrypted: LRZSVKCJLBNK\n"
          ]
        }
      ],
      "source": [
        "import numpy as np\n",
        "\n",
        "def hill_cipher_encrypt(plaintext, key_matrix):\n",
        "    n = len(key_matrix)\n",
        "    plaintext = plaintext.upper().replace(\" \",\"\")\n",
        "    if len(plaintext) % n != 0:\n",
        "      plaintext += \"X\" * (n - len(plaintext) % n)\n",
        "\n",
        "    plaintext_vector = [ord(char) - ord('A') for char in plaintext]\n",
        "    ciphertext = \"\"\n",
        "    for i in range(0, len(plaintext_vector), n):\n",
        "      block = plaintext_vector[i:i + n]\n",
        "      result = np.dot(key_matrix, block) % 26\n",
        "      ciphertext += \"\".join(chr(num + ord('A')) for num in result)\n",
        "    return ciphertext\n",
        "\n",
        "# Example usage\n",
        "plaintext = input(\"Enter text: \")\n",
        "key_matrix = np.array([[6, 24, 1], [13, 16, 10], [20, 17, 15]]) # Example 3x3 key matrix\n",
        "print(\"Encrypted:\", hill_cipher_encrypt(plaintext, key_matrix))"
      ]
    }
  ]
}