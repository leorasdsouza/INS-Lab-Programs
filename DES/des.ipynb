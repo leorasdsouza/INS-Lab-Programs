{
  "nbformat": 4,
  "nbformat_minor": 0,
  "metadata": {
    "colab": {
      "provenance": [],
      "authorship_tag": "ABX9TyOHe9XV9TDyB/PwjyhpuE/F",
      "include_colab_link": true
    },
    "kernelspec": {
      "name": "python3",
      "display_name": "Python 3"
    },
    "language_info": {
      "name": "python"
    }
  },
  "cells": [
    {
      "cell_type": "markdown",
      "metadata": {
        "id": "view-in-github",
        "colab_type": "text"
      },
      "source": [
        "<a href=\"https://colab.research.google.com/github/leorasdsouza/INS-Lab-Programs/blob/main/DES/des.ipynb\" target=\"_parent\"><img src=\"https://colab.research.google.com/assets/colab-badge.svg\" alt=\"Open In Colab\"/></a>"
      ]
    },
    {
      "cell_type": "code",
      "execution_count": 13,
      "metadata": {
        "colab": {
          "base_uri": "https://localhost:8080/"
        },
        "id": "9-ybA3J231db",
        "outputId": "e5f442fc-7c6b-49bf-9e62-13bfdf759c5e"
      },
      "outputs": [
        {
          "output_type": "stream",
          "name": "stdout",
          "text": [
            "Enter a string: hello \n",
            "Key 1 = 100110110000000011001011011000\n",
            "Key 2 = 001111100000000110011101100000\n",
            "Key 3 = 101110000000000010010110100000\n",
            "Key 4 = 010000000000000001011101000000\n",
            "Key 5 = 101101110100000000110011011000\n",
            "Key 6 = 011010000000000010111011000000\n",
            "Key 7 = 101111000000000011001110110000\n",
            "Key 8 = 110100000000000001011110000000\n"
          ]
        }
      ],
      "source": [
        "import random\n",
        "\n",
        "s = input(\"Enter a string: \")\n",
        "\n",
        "result = ''.join(format(ord(i), '08b') for i in s)\n",
        "\n",
        "answer = \"\".join(result[i] for i in range(len(result)) if i % 8 != 0)\n",
        "\n",
        "l = len(answer) // 2\n",
        "left = answer[:l]\n",
        "right = answer[l:]\n",
        "\n",
        "lt = [2, 3, 6, 7, 1, 6, 5, 9]\n",
        "\n",
        "keys = []\n",
        "for i in range(8):\n",
        "    newKey = \"\"\n",
        "    newAnswer = \"\"\n",
        "\n",
        "    nl = int(left, 2) << lt[i]\n",
        "    nr = int(right, 2) << lt[i]\n",
        "\n",
        "    nl = bin(nl)[2:].zfill(len(left))\n",
        "    nr = bin(nr)[2:].zfill(len(right))\n",
        "\n",
        "    num = 2 + lt[i]\n",
        "    newKey = nr[num:] + nl[num:]\n",
        "\n",
        "    rm = set()\n",
        "    while len(rm) < 8:\n",
        "        rm.add(random.randint(0, len(newKey) - 1))\n",
        "\n",
        "    for j in range(len(newKey)):\n",
        "        if j not in rm:\n",
        "            newAnswer += newKey[j]\n",
        "\n",
        "    keys.append(newAnswer)\n",
        "\n",
        "for i in range(len(keys)):\n",
        "    print(\"Key\", i + 1, \"=\", keys[i])\n"
      ]
    }
  ]
}