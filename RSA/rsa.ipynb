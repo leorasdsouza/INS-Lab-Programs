{
  "nbformat": 4,
  "nbformat_minor": 0,
  "metadata": {
    "colab": {
      "provenance": [],
      "authorship_tag": "ABX9TyOOrgGmcSekaI+c8g0B/AwM",
      "include_colab_link": true
    },
    "kernelspec": {
      "name": "python3",
      "display_name": "Python 3"
    },
    "language_info": {
      "name": "python"
    }
  },
  "cells": [
    {
      "cell_type": "markdown",
      "metadata": {
        "id": "view-in-github",
        "colab_type": "text"
      },
      "source": [
        "<a href=\"https://colab.research.google.com/github/leorasdsouza/INS-Lab-Programs/blob/main/RSA/rsa.ipynb\" target=\"_parent\"><img src=\"https://colab.research.google.com/assets/colab-badge.svg\" alt=\"Open In Colab\"/></a>"
      ]
    },
    {
      "cell_type": "code",
      "execution_count": 2,
      "metadata": {
        "colab": {
          "base_uri": "https://localhost:8080/"
        },
        "id": "dgnlbXvEpD1B",
        "outputId": "21cebe5b-228e-4150-a224-339ef7eb93e5"
      },
      "outputs": [
        {
          "output_type": "stream",
          "name": "stdout",
          "text": [
            "Enter the value of p: 13\n",
            "Enter the value of q: 7\n",
            "Enter the message: 55\n",
            "Encypted message is  48\n",
            "Decrypted message is  55\n"
          ]
        }
      ],
      "source": [
        "def gcd(a,b):\n",
        "\twhile b:\n",
        "\t\ta,b = b,a%b\n",
        "\treturn a\n",
        "def rsa(p,q,msg):\n",
        "\tn = p*q\n",
        "\tphi = (p-1)*(q-1)\n",
        "\tfor i in range(2,phi):\n",
        "\t\tif gcd(i,phi)==1:\n",
        "\t\t\te = i\n",
        "\t\t\tbreak\n",
        "\tj = 0\n",
        "\twhile True:\n",
        "\t\tif (j*e%phi)==1:\n",
        "\t\t\td = j\n",
        "\t\t\tbreak\n",
        "\t\tj += 1\n",
        "\tc = (msg**e)%n\n",
        "\tprint(\"Encypted message is \",c)\n",
        "\td = (c**d)%n\n",
        "\tprint(\"Decrypted message is \",d)\n",
        "p = int(input(\"Enter the value of p: \"))\n",
        "q = int(input(\"Enter the value of q: \"))\n",
        "msg = int(input(\"Enter the message: \"))\n",
        "rsa(p,q,msg)"
      ]
    }
  ]
}