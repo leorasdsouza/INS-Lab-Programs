{
  "nbformat": 4,
  "nbformat_minor": 0,
  "metadata": {
    "colab": {
      "provenance": [],
      "authorship_tag": "ABX9TyOIv5pTx48g0tiH68VEdvEz",
      "include_colab_link": true
    },
    "kernelspec": {
      "name": "python3",
      "display_name": "Python 3"
    },
    "language_info": {
      "name": "python"
    }
  },
  "cells": [
    {
      "cell_type": "markdown",
      "metadata": {
        "id": "view-in-github",
        "colab_type": "text"
      },
      "source": [
        "<a href=\"https://colab.research.google.com/github/leorasdsouza/INS-Lab-Programs/blob/main/Diffie-Hellman/Diffie_Hellman.ipynb\" target=\"_parent\"><img src=\"https://colab.research.google.com/assets/colab-badge.svg\" alt=\"Open In Colab\"/></a>"
      ]
    },
    {
      "cell_type": "code",
      "execution_count": 3,
      "metadata": {
        "colab": {
          "base_uri": "https://localhost:8080/"
        },
        "id": "mX98SFEs26rs",
        "outputId": "ecc9f12d-4d4a-42d8-f922-d566ee7d9780"
      },
      "outputs": [
        {
          "output_type": "stream",
          "name": "stdout",
          "text": [
            "Enter a prime number:23\n",
            "Enter primitive root:5\n",
            "Enter the private key of A:10\n",
            "Enter the private key of B:15\n",
            "Public key of A:  9.0\n",
            "Public key of B:  19.0\n",
            "Shared key for A is: 6.0\n",
            "Shared key for B is:  6.0\n"
          ]
        }
      ],
      "source": [
        "import math\n",
        "q = int(input(\"Enter a prime number:\"))\n",
        "a = int(input(\"Enter primitive root:\"))\n",
        "Xa = int(input(\"Enter the private key of A:\"))\n",
        "Xb = int(input(\"Enter the private key of B:\"))\n",
        "Ya = math.pow(a,Xa)%q\n",
        "Yb = math.pow(a,Xb)%q\n",
        "print(\"Public key of A: \",Ya)\n",
        "print(\"Public key of B: \",Yb)\n",
        "Ka = math.pow(Yb,Xa)%q\n",
        "Kb = math.pow(Ya,Xb)%q\n",
        "print(\"Shared key for A is:\",Ka)\n",
        "print(\"Shared key for B is: \",Kb)\n"
      ]
    }
  ]
}