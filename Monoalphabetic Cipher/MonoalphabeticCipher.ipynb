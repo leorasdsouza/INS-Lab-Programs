{
  "nbformat": 4,
  "nbformat_minor": 0,
  "metadata": {
    "colab": {
      "provenance": [],
      "authorship_tag": "ABX9TyORz5p+gYfKIOQcxPOHxo8O",
      "include_colab_link": true
    },
    "kernelspec": {
      "name": "python3",
      "display_name": "Python 3"
    },
    "language_info": {
      "name": "python"
    }
  },
  "cells": [
    {
      "cell_type": "markdown",
      "metadata": {
        "id": "view-in-github",
        "colab_type": "text"
      },
      "source": [
        "<a href=\"https://colab.research.google.com/github/leorasdsouza/INS-Lab-Programs/blob/main/Monoalphabetic%20Cipher/MonoalphabeticCipher.ipynb\" target=\"_parent\"><img src=\"https://colab.research.google.com/assets/colab-badge.svg\" alt=\"Open In Colab\"/></a>"
      ]
    },
    {
      "cell_type": "code",
      "execution_count": null,
      "metadata": {
        "colab": {
          "base_uri": "https://localhost:8080/"
        },
        "id": "9dO_tQeEehry",
        "outputId": "4a5baf1f-af53-4798-b3d2-1e22a193234f"
      },
      "outputs": [
        {
          "output_type": "stream",
          "name": "stdout",
          "text": [
            "Enter the plain text: substitution cipher12\n",
            "Encrypted text: lxwlzozxzogf eohitk12\n",
            "Decrypted text: substitution cipher12\n"
          ]
        }
      ],
      "source": [
        "keys = {\n",
        "    'a': 'q', 'b': 'w', 'c': 'e', 'd': 'r', 'e': 't', 'f': 'y', 'g': 'u', 'h': 'i',\n",
        "    'i': 'o', 'j': 'p', 'k': 'a', 'l': 's', 'm': 'd', 'n': 'f', 'o': 'g', 'p': 'h',\n",
        "    'q': 'j', 'r': 'k', 's': 'l', 't': 'z', 'u': 'x', 'v': 'c', 'w': 'v', 'x': 'b',\n",
        "    'y': 'n', 'z': 'm'\n",
        "}\n",
        "\n",
        "reverse_keys = {v: k for k, v in keys.items()}\n",
        "\n",
        "def encrypt(text):\n",
        "    text = text.lower()\n",
        "    encrypted_text = []\n",
        "    for l in text:\n",
        "        encrypted_text.append(keys.get(l, l))\n",
        "    return ''.join(encrypted_text)\n",
        "\n",
        "def decipher(text):\n",
        "    text = text.lower()\n",
        "    decrypted_text = []\n",
        "    for l in text:\n",
        "        decrypted_text.append(reverse_keys.get(l, l))\n",
        "    return ''.join(decrypted_text)\n",
        "\n",
        "x = input(\"Enter the plain text: \")\n",
        "encrypted_text = encrypt(x)\n",
        "decrypted_text = decipher(encrypted_text)\n",
        "\n",
        "print(\"Encrypted text:\", encrypted_text)\n",
        "print(\"Decrypted text:\", decrypted_text)\n"
      ]
    }
  ]
}