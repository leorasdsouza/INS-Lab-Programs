{
  "nbformat": 4,
  "nbformat_minor": 0,
  "metadata": {
    "colab": {
      "provenance": [],
      "authorship_tag": "ABX9TyN7/aJrpEpx6fB399m3G0rr",
      "include_colab_link": true
    },
    "kernelspec": {
      "name": "python3",
      "display_name": "Python 3"
    },
    "language_info": {
      "name": "python"
    }
  },
  "cells": [
    {
      "cell_type": "markdown",
      "metadata": {
        "id": "view-in-github",
        "colab_type": "text"
      },
      "source": [
        "<a href=\"https://colab.research.google.com/github/leorasdsouza/INS-Lab-Programs/blob/main/Feistel%20Cipher/Feistel_Cipher.ipynb\" target=\"_parent\"><img src=\"https://colab.research.google.com/assets/colab-badge.svg\" alt=\"Open In Colab\"/></a>"
      ]
    },
    {
      "cell_type": "code",
      "execution_count": 16,
      "metadata": {
        "colab": {
          "base_uri": "https://localhost:8080/"
        },
        "id": "yDGqtosDCvbC",
        "outputId": "18a3a1d3-6228-4daf-c0ee-60a8f474ffcf"
      },
      "outputs": [
        {
          "output_type": "stream",
          "name": "stdout",
          "text": [
            "Enter text: HELLO\n",
            "Enter a key: HI\n",
            "Ciphertext (Binary): 0100100001000101010011000100110001001111\n",
            "Decrypted text: HELLO\n"
          ]
        }
      ],
      "source": [
        "s = input(\"Enter text: \")\n",
        "result = \"\".join(format(ord(i), '08b') for i in s)\n",
        "\n",
        "l = int(len(result) / 2)\n",
        "left = result[:l]\n",
        "right = result[l:]\n",
        "\n",
        "k = input(\"Enter a key: \")\n",
        "key = \"\".join(format(ord(i), '08b') for i in k)\n",
        "\n",
        "s = bin(int(right, 2) + int(key, 2))\n",
        "answer = bin(int(s[2:], 2) ^ int(left, 2))\n",
        "newr = answer[2:]\n",
        "newl = right\n",
        "newr, newl = newl, newr\n",
        "\n",
        "s = bin(int(newr, 2) + int(key, 2))\n",
        "ans = bin(int(s[2:], 2) ^ int(newl, 2))\n",
        "nl = newr\n",
        "nr = ans[2:]\n",
        "nl, nr = nr, nl\n",
        "\n",
        "cipher = nl + nr\n",
        "\n",
        "if len(cipher) != len(result):\n",
        "    while len(cipher) != len(result):\n",
        "        cipher = \"0\" + cipher\n",
        "\n",
        "print(\"Ciphertext (Binary):\", cipher)\n",
        "\n",
        "plainText = \"\"\n",
        "for i in range(0, len(cipher), 8):\n",
        "    temp = cipher[i:i + 8]\n",
        "    d = int(temp, 2)\n",
        "    plainText += chr(d)\n",
        "\n",
        "print(\"Decrypted text:\", plainText)\n"
      ]
    }
  ]
}