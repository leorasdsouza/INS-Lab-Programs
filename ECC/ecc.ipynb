{
  "nbformat": 4,
  "nbformat_minor": 0,
  "metadata": {
    "colab": {
      "provenance": [],
      "authorship_tag": "ABX9TyNbKRgNiqRq2ry6KDtQtGoZ",
      "include_colab_link": true
    },
    "kernelspec": {
      "name": "python3",
      "display_name": "Python 3"
    },
    "language_info": {
      "name": "python"
    }
  },
  "cells": [
    {
      "cell_type": "markdown",
      "metadata": {
        "id": "view-in-github",
        "colab_type": "text"
      },
      "source": [
        "<a href=\"https://colab.research.google.com/github/leorasdsouza/INS-Lab-Programs/blob/main/ECC/ecc.ipynb\" target=\"_parent\"><img src=\"https://colab.research.google.com/assets/colab-badge.svg\" alt=\"Open In Colab\"/></a>"
      ]
    },
    {
      "cell_type": "code",
      "source": [
        "!pip install tinyec"
      ],
      "metadata": {
        "colab": {
          "base_uri": "https://localhost:8080/"
        },
        "id": "36z8vyhmELQ2",
        "outputId": "7dbae503-ea55-419f-8761-704bab85e0c8"
      },
      "execution_count": 2,
      "outputs": [
        {
          "output_type": "stream",
          "name": "stdout",
          "text": [
            "Collecting tinyec\n",
            "  Downloading tinyec-0.4.0.tar.gz (24 kB)\n",
            "  Preparing metadata (setup.py) ... \u001b[?25l\u001b[?25hdone\n",
            "Building wheels for collected packages: tinyec\n",
            "  Building wheel for tinyec (setup.py) ... \u001b[?25l\u001b[?25hdone\n",
            "  Created wheel for tinyec: filename=tinyec-0.4.0-py3-none-any.whl size=20877 sha256=bc143c136e52c28193aadf794f94a62b28c6986ce1c26916346b7b8e3e825b5a\n",
            "  Stored in directory: /root/.cache/pip/wheels/db/86/a7/922d884ea8657b29b0231d6566159462328473186637fcc02e\n",
            "Successfully built tinyec\n",
            "Installing collected packages: tinyec\n",
            "Successfully installed tinyec-0.4.0\n"
          ]
        }
      ]
    },
    {
      "cell_type": "code",
      "execution_count": 3,
      "metadata": {
        "colab": {
          "base_uri": "https://localhost:8080/"
        },
        "id": "_JS2ZBJ3D4ir",
        "outputId": "6e6f866d-c64e-4995-c1cb-dc266d8abce9"
      },
      "outputs": [
        {
          "output_type": "stream",
          "name": "stdout",
          "text": [
            "Sender's private key:  0x3351a550e0aafc7053b782588119d776a26da78a531c292199d3bf9ae368e451\n",
            "Sender's public key :  0x5282b5bc8e150ec133b9c5d9fd4607f2411348b58deeca74e3db7922de1146361\n",
            "\n",
            "\n",
            "Sender's ciphertext public key :  0x1774df015c4ddec163eb6303834f8f0ce7c1f9af177d2a72e7d88c01eb15d9a11\n",
            "Sender's encryption key :  0x5ff8a0d911342f76900ce99b64a76de8beefd99ad76fd2031ca19ea1464470b50\n",
            "\n",
            "\n",
            "Receiver's private key:  0x4ebde00391c00ed811bc291e031599353bc64762c99de2b405f2b79c96f1fa01\n",
            "Receiver's public key:  0x904ed7a61c2202b73dd0237e11e9bae3e8f571eb0e8a1bbd170c8617d4a9585f0\n",
            "\n",
            "\n",
            "Receiver's ciphertext public key :  0x717cb1ad4381abb79ad2c4bfc65706a4d27f2da09f138685a09c06689ed448170\n",
            "Receiver encryption key :  0xa8d42602ff9e1b4a17d32058836002c3a36d8dd652f386993311c03086d58c1f0\n"
          ]
        }
      ],
      "source": [
        "import tinyec\n",
        "from tinyec import registry\n",
        "import secrets\n",
        "\n",
        "curve = registry.get_curve(\"brainpoolP256r1\")\n",
        "\n",
        "def compress_point(point):\n",
        "\treturn hex(point.x) + hex(point.y % 2)[2:]\n",
        "def getEnKey(pubKey):\n",
        "\tciPrivateKey = secrets.randbelow(curve.field.n)\n",
        "\tciPublicKey = ciPrivateKey * curve.g\n",
        "\tenKey = ciPublicKey * ciPrivateKey\n",
        "\treturn (enKey,ciPublicKey)\n",
        "senderPrivateKey = secrets.randbelow(curve.field.n)\n",
        "senderPublicKey = senderPrivateKey * curve.g\n",
        "print(\"Sender's private key: \",hex(senderPrivateKey))\n",
        "print(\"Sender's public key : \", compress_point(senderPublicKey))\n",
        "print(\"\\n\")\n",
        "(enKeySender, ciPublicKeySender) = getEnKey(senderPublicKey)\n",
        "print(\"Sender's ciphertext public key : \", compress_point(ciPublicKeySender))\n",
        "print(\"Sender's encryption key : \", compress_point(enKeySender))\n",
        "print(\"\\n\")\n",
        "receiverPrivateKey = secrets.randbelow(curve.field.n)\n",
        "receiverPublicKey = receiverPrivateKey * curve.g\n",
        "print(\"Receiver's private key: \",hex(receiverPrivateKey))\n",
        "print(\"Receiver's public key: \",compress_point(receiverPublicKey))\n",
        "print(\"\\n\")\n",
        "(enKeyReceiver,ciPublicKeyReceiver) = getEnKey(receiverPublicKey)\n",
        "print(\"Receiver's ciphertext public key : \",compress_point(ciPublicKeyReceiver))\n",
        "print(\"Receiver encryption key : \",compress_point(enKeyReceiver))\n",
        "\n"
      ]
    }
  ]
}